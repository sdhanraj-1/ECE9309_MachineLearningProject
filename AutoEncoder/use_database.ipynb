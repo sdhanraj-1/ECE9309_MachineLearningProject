{
 "cells": [
  {
   "cell_type": "code",
   "execution_count": 3,
   "id": "6c1d1ce0-cb9d-4655-a37a-66dc086dc8f8",
   "metadata": {},
   "outputs": [
    {
     "name": "stdout",
     "output_type": "stream",
     "text": [
      "   Unnamed: 0  Id                                              title  \\\n",
      "0           0   0  Bargaining Game Based Time Scheduling Scheme f...   \n",
      "1           1   1  The Use of Tangible User Interfaces in K12 Edu...   \n",
      "2           2   2  Transient Surface Charge Characteristics of DC...   \n",
      "3           3   3  Electromagnetic Vibration Characteristics Anal...   \n",
      "4           4   4            kNN-STUFF: kNN STreaming Unit for Fpgas   \n",
      "\n",
      "                 link  year  \\\n",
      "0  /document/9615057/  2021   \n",
      "1  /document/9721879/  2022   \n",
      "2  /document/9714376/  2022   \n",
      "3  /document/8918234/  2019   \n",
      "4  /document/8911384/  2019   \n",
      "\n",
      "                                             authors  citations  \\\n",
      "0                                   ['Sungwook Kim']          0   \n",
      "1  ['José A. Gallud', 'Ricardo Tesoriero', 'Maria...          0   \n",
      "2  ['Xiaolong Li', 'Songling Han', 'Mingde Wan', ...          0   \n",
      "3  ['Defeng Kong', 'Zhijun Shuai', 'Wanyou Li', '...          3   \n",
      "4  ['João Vieira', 'Rui P. Duarte', 'Horácio C. N...         11   \n",
      "\n",
      "                                            abstract  \n",
      "0  Backscatter communications have been acknowled...  \n",
      "1  Tangible User Interfaces have enriched and exp...  \n",
      "2  The insulator in direct current gas-insulated ...  \n",
      "3  Electromagnetic vibration is an important exci...  \n",
      "4  This paper presents kNN STreaming Unit For Fpg...  \n",
      "Unnamed: 0     0\n",
      "Id             0\n",
      "title          0\n",
      "link           0\n",
      "year           0\n",
      "authors        0\n",
      "citations      0\n",
      "abstract      50\n",
      "dtype: int64\n",
      "Unnamed: 0    0\n",
      "Id            0\n",
      "title         0\n",
      "link          0\n",
      "year          0\n",
      "authors       0\n",
      "citations     0\n",
      "abstract      0\n",
      "dtype: int64\n"
     ]
    }
   ],
   "source": [
    "import tensorflow_hub as hub\n",
    "import numpy as np\n",
    "import pandas as pd\n",
    "from sklearn.metrics.pairwise import cosine_similarity\n",
    "\n",
    "use_model = hub.load(\"https://tfhub.dev/google/universal-sentence-encoder/4\")\n",
    "\n",
    "papers = pd.read_csv('database.csv')\n",
    "print(papers.head())\n",
    "\n",
    "print(papers.isnull().sum())\n",
    "\n",
    "papers = papers.dropna(subset=[\"Id\", \"title\", \"abstract\"])\n",
    "\n",
    "print(papers.isnull().sum())\n",
    "\n",
    "papers.to_csv(\"database_clean.csv\", index=False)\n",
    "\n",
    "texts = papers.apply(lambda row: row[\"title\"] + \" \" + row[\"abstract\"], axis=1).tolist()\n",
    "\n",
    "batch_size = 3000  \n",
    "embeddings = []\n",
    "\n",
    "for i in range(0, len(texts), batch_size):\n",
    "    batch = texts[i:i + batch_size]\n",
    "    batch_embeddings = use_model(batch).numpy()\n",
    "    embeddings.append(batch_embeddings)\n",
    "\n",
    "\n",
    "embeddings = np.vstack(embeddings)\n",
    "\n",
    "df_embeddings = pd.DataFrame(embeddings)\n",
    "df_embeddings[\"Id\"] = papers[\"Id\"].values\n",
    "df_embeddings.to_csv(\"use_embeddings.csv\", index=False)"
   ]
  },
  {
   "cell_type": "code",
   "execution_count": null,
   "id": "23314df7-e605-4e53-a07d-4a635d2f9a8e",
   "metadata": {},
   "outputs": [],
   "source": []
  }
 ],
 "metadata": {
  "kernelspec": {
   "display_name": "Python 3 (ipykernel)",
   "language": "python",
   "name": "python3"
  },
  "language_info": {
   "codemirror_mode": {
    "name": "ipython",
    "version": 3
   },
   "file_extension": ".py",
   "mimetype": "text/x-python",
   "name": "python",
   "nbconvert_exporter": "python",
   "pygments_lexer": "ipython3",
   "version": "3.12.7"
  }
 },
 "nbformat": 4,
 "nbformat_minor": 5
}
