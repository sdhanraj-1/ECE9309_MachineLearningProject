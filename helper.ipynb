{
 "cells": [
  {
   "cell_type": "code",
   "execution_count": null,
   "id": "8ab8572b-2a71-4a98-9b09-4ddcc35f608a",
   "metadata": {},
   "outputs": [],
   "source": [
    "import numpy as np\n",
    "from sklearn.feature_extraction.text import TfidfVectorizer"
   ]
  },
  {
   "cell_type": "code",
   "execution_count": null,
   "id": "bcb530fb-04a4-4842-8476-bfaa2717fee4",
   "metadata": {},
   "outputs": [],
   "source": [
    "# Input should be similarity matrix, so whatever was outputed when using the cosine_similarity function.\n",
    "def cosine_similarity_mean_median(similarity_matrix):\n",
    "    # Sort the similarity matrix in reverse order and select the top 10 data points\n",
    "    top_n = 10\n",
    "    top_indices = np.argsort(-similarity_matrix, axis=1)[:, :top_n]  \n",
    "\n",
    "    # Store the similarity values of all top 10 recommended papers for all test papers\n",
    "    similarity_matrix_top10 = []  \n",
    "    for i, test_idx in enumerate(top_indices):\n",
    "        similarity_row_top10 = []\n",
    "        for j, train_idx in enumerate(test_idx):\n",
    "            similarity_row_top10.append(similarity_matrix[i, train_idx])\n",
    "        similarity_matrix_top10.append(similarity_row_top10)\n",
    "    \n",
    "    # Calculate the mean and median of all top 10 recommended papers for all test papers\n",
    "    # Both similarity_mean and similarity_median have this structure:\n",
    "    # [0.6, 0.8, ..., 0.7, 0.4], where each element is the mean/median of the similarity values of the top 10 recommended papers for a specific test paper.\n",
    "    # For example, 0.6 would be the mean/median of the top 10 recommended papers for test paper #1\n",
    "    similarity_mean = np.mean(similarity_matrix_top10, axis=1)\n",
    "    similarity_median = np.median(similarity_matrix_top10, axis=1)\n",
    "\n",
    "    # Both mean and median are returned together, so when calling the function, make sure to do it like this:\n",
    "    # similarity_mean, similarity_median = cosine_similarity(similarity_matrix)\n",
    "    return similarity_mean, similarity_median"
   ]
  },
  {
   "cell_type": "code",
   "execution_count": null,
   "id": "e24960bf-5b81-42f9-a446-6330f57a651e",
   "metadata": {},
   "outputs": [],
   "source": [
    "# Structure: [[]]\n",
    "def tf_idf(top10_papers):"
   ]
  }
 ],
 "metadata": {
  "kernelspec": {
   "display_name": "Python 3 (ipykernel)",
   "language": "python",
   "name": "python3"
  },
  "language_info": {
   "codemirror_mode": {
    "name": "ipython",
    "version": 3
   },
   "file_extension": ".py",
   "mimetype": "text/x-python",
   "name": "python",
   "nbconvert_exporter": "python",
   "pygments_lexer": "ipython3",
   "version": "3.12.0"
  }
 },
 "nbformat": 4,
 "nbformat_minor": 5
}
