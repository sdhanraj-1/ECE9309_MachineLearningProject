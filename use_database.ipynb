{
 "cells": [
  {
   "cell_type": "code",
   "execution_count": 6,
   "id": "6c1d1ce0-cb9d-4655-a37a-66dc086dc8f8",
   "metadata": {
    "editable": true,
    "slideshow": {
     "slide_type": ""
    },
    "tags": []
   },
   "outputs": [
    {
     "name": "stdout",
     "output_type": "stream",
     "text": [
      "                                                 abstract  \\\n",
      "975000                                                NaN   \n",
      "975001                                                NaN   \n",
      "975002  Let G be a plane bipartite graph with at least...   \n",
      "975003  Space division multiplexing (SDM) is expected ...   \n",
      "975004  We derive in a direct and rather straightforwa...   \n",
      "\n",
      "                                                  authors  n_citation  \\\n",
      "975000                                 ['Bernhard Nebel']         119   \n",
      "975001  ['Luis C. González', 'Heidi J. Romero', 'Carlo...          50   \n",
      "975002      ['Heping Zhang', 'Fuji Zhang', 'Haiyuan Yao']          11   \n",
      "975003  ['Kazuhide Nakajima', 'Takashi Matsui', 'Kotar...           0   \n",
      "975004  ['Philippe Martin', 'Lionel Rosier', 'Pierre R...          27   \n",
      "\n",
      "                                               references  \\\n",
      "975000  ['11efc6bf-e1f1-490f-9882-c8e6f5dafa3e', '288d...   \n",
      "975001  ['05851c27-3c27-480f-bfe7-aebd6947d444', '13a0...   \n",
      "975002  ['30e887ac-4425-4cd3-a5f9-6c4564a29ec7', '470c...   \n",
      "975003           ['f1d41664-787a-48b4-8327-4845827dc94b']   \n",
      "975004  ['75256a08-60bb-4a9f-bc41-628380344f7b', '821f...   \n",
      "\n",
      "                                                    title  \\\n",
      "975000  Solving hard qualitative temporal reasoning pr...   \n",
      "975001  A Genetic Algorithm for the Shortest Common Su...   \n",
      "975002  Z-transformation graphs of perfect matchings o...   \n",
      "975003  Space division multiplexing technology: Next g...   \n",
      "975004  Null controllability of the heat equation usin...   \n",
      "\n",
      "                                                  venue  year  \\\n",
      "975000           Constraints - An International Journal  1997   \n",
      "975001  genetic and evolutionary computation conference  2004   \n",
      "975002                             Discrete Mathematics  2004   \n",
      "975003                                              NaN  2016   \n",
      "975004                                       Automatica  2014   \n",
      "\n",
      "                                          id  \n",
      "975000  000079cf-ef13-46ea-b031-0f1f58c433f5  \n",
      "975001  00856e6a-68de-4208-bbb1-e7409c119d04  \n",
      "975002  0104dc5e-e8a1-47c0-a203-ef0046c5e3cb  \n",
      "975003  016bd71f-119a-4514-865e-7ce3fe4fe825  \n",
      "975004  01db336e-5faa-4c2d-8bdc-a0a630bfd9e5  \n",
      "abstract      13935\n",
      "authors           0\n",
      "n_citation        0\n",
      "references    12438\n",
      "title             0\n",
      "venue         10187\n",
      "year              0\n",
      "id                0\n",
      "dtype: int64\n",
      "abstract         0\n",
      "authors          0\n",
      "n_citation       0\n",
      "references    1185\n",
      "title            0\n",
      "venue         2265\n",
      "year             0\n",
      "id               0\n",
      "dtype: int64\n"
     ]
    }
   ],
   "source": [
    "import tensorflow_hub as hub\n",
    "import numpy as np\n",
    "import pandas as pd\n",
    "from sklearn.metrics.pairwise import cosine_similarity\n",
    "\n",
    "use_model = hub.load(\"https://tfhub.dev/google/universal-sentence-encoder/4\")\n",
    "\n",
    "papers = pd.read_csv('dblp-v10.csv').tail(25000)\n",
    "print(papers.head())\n",
    "\n",
    "print(papers.isnull().sum())\n",
    "\n",
    "papers = papers.dropna(subset=[\"id\", \"title\", \"abstract\"])\n",
    "\n",
    "print(papers.isnull().sum())\n",
    "\n",
    "papers.to_csv(\"database_clean.csv\", index=False)\n",
    "\n",
    "texts = papers.apply(lambda row: row[\"title\"] + \" \" + row[\"abstract\"], axis=1).tolist()\n",
    "\n",
    "batch_size = 3000  \n",
    "embeddings = []\n",
    "\n",
    "for i in range(0, len(texts), batch_size):\n",
    "    batch = texts[i:i + batch_size]\n",
    "    batch_embeddings = use_model(batch).numpy()\n",
    "    embeddings.append(batch_embeddings)\n",
    "\n",
    "\n",
    "embeddings = np.vstack(embeddings)\n",
    "\n",
    "df_embeddings = pd.DataFrame(embeddings)\n",
    "df_embeddings[\"id\"] = papers[\"id\"].values\n",
    "df_embeddings.to_csv(\"use_embeddings.csv\", index=False)"
   ]
  },
  {
   "cell_type": "code",
   "execution_count": 7,
   "id": "5a826b30-7e80-4199-a666-5db2adf5b13b",
   "metadata": {},
   "outputs": [
    {
     "name": "stdout",
     "output_type": "stream",
     "text": [
      "11065\n"
     ]
    }
   ],
   "source": [
    "print(len(papers))"
   ]
  },
  {
   "cell_type": "code",
   "execution_count": null,
   "id": "1bc7bd81-957f-4b84-8333-ad32251d4f9f",
   "metadata": {},
   "outputs": [],
   "source": []
  }
 ],
 "metadata": {
  "kernelspec": {
   "display_name": "Python 3 (ipykernel)",
   "language": "python",
   "name": "python3"
  },
  "language_info": {
   "codemirror_mode": {
    "name": "ipython",
    "version": 3
   },
   "file_extension": ".py",
   "mimetype": "text/x-python",
   "name": "python",
   "nbconvert_exporter": "python",
   "pygments_lexer": "ipython3",
   "version": "3.12.7"
  }
 },
 "nbformat": 4,
 "nbformat_minor": 5
}
